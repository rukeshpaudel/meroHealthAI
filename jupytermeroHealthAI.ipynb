{
 "cells": [
  {
   "cell_type": "code",
   "execution_count": 1,
   "metadata": {},
   "outputs": [],
   "source": [
    "from openai import OpenAI \n",
    "import os\n",
    "\n",
    "client = OpenAI(\n",
    "    api_key=os.environ['QUALZ_OPEN_API_KEY']\n",
    ") \n",
    "\n",
    "assistant = client.beta.assistants.create(\n",
    "    name=\"meroHeatlhAI\",\n",
    "    instructions=\"You are a highly qualified and skilled doctor who can ask all the right questions to the patient and create an engaging and interesting conversation and make patients let out all the diseases they are suffering from. Then you will create a medical report based on the symptoms. If you are 100% sure, you can also predict the disease else just report the symptoms in a formal formatted diagnosis report. Make sure to include all the vital informations by asking the patients. Ask their name, address and other personal details information before beginning asking for symptoms. Also ask their weight and height, calculate BMI index, ask if they have the details of the test they've previously taken. If they have any previous medical reports, ask for their sugar level, blood pressure and other necessary information that are done in a whole body checkup. Ask one question at a time so that the user doesn't feel overwhelmed. After completing asking the symptoms, automatically generate the symptoms in a medical report like format along with the patient's information.\",\n",
    "    tools=[{\"type\": \"code_interpreter\"}],\n",
    "    model=\"gpt-4-turbo-preview\"\n",
    ")"
   ]
  },
  {
   "cell_type": "code",
   "execution_count": 2,
   "metadata": {},
   "outputs": [],
   "source": [
    "thread = client.beta.threads.create()"
   ]
  },
  {
   "cell_type": "code",
   "execution_count": 3,
   "metadata": {},
   "outputs": [],
   "source": [
    "message = client.beta.threads.messages.create(\n",
    "    thread_id=thread.id,\n",
    "    role=\"user\",\n",
    "    content=\"I am having panic attack. Can you help me?\"\n",
    ")"
   ]
  },
  {
   "cell_type": "code",
   "execution_count": 4,
   "metadata": {},
   "outputs": [],
   "source": [
    "run = client.beta.threads.runs.create(\n",
    "  thread_id=thread.id,\n",
    "  assistant_id=assistant.id,\n",
    "  instructions=\"Please address the user as Jane Doe. The user has a premium account.\"\n",
    ")"
   ]
  },
  {
   "cell_type": "code",
   "execution_count": 5,
   "metadata": {},
   "outputs": [],
   "source": [
    "run = client.beta.threads.runs.retrieve(\n",
    "  thread_id=thread.id,\n",
    "  run_id=run.id\n",
    ")"
   ]
  },
  {
   "cell_type": "code",
   "execution_count": 6,
   "metadata": {},
   "outputs": [],
   "source": [
    "messages = client.beta.threads.messages.list(\n",
    "  thread_id=thread.id\n",
    ")"
   ]
  },
  {
   "cell_type": "code",
   "execution_count": 7,
   "metadata": {},
   "outputs": [
    {
     "name": "stdout",
     "output_type": "stream",
     "text": [
      "SyncCursorPage[ThreadMessage](data=[ThreadMessage(id='msg_NWYcOPsTRpXx6jMFScbullxL', assistant_id='asst_F16PfBMjlfT9Mokhwp455i2u', content=[MessageContentText(text=Text(annotations=[], value=\"I'm truly sorry to hear that you're experiencing a panic attack. While I'm not a licensed therapist, I can offer some general strategies that many find helpful in managing the symptoms. Please know that if you are feeling overwhelmed, reaching out to a professional or a trusted individual in your life for support is a good step. Here are some techniques you might try:\\n\\n1. **Focused Breathing:** Focus on taking slow, deep breaths. Inhale slowly through your nose, hold for a few seconds, and then exhale slowly through your mouth. This helps calm your nervous system and can make you feel more grounded.\\n\\n2. **5-4-3-2-1 Grounding Technique:** This involves identifying and acknowledging different objects around you to help ground yourself in the present moment.\\n   - Find 5 things you can see.\\n   - Find 4 things you can touch.\\n   - Find 3 things you can hear.\\n   - Find 2 things you can smell or like the smell of.\\n   - Find 1 thing you can taste or like the taste of.\\n\\n3. **Progressive Muscle Relaxation (PMR):** Tense each muscle group in your body (but not to the point of strain) and then relax it. Start from your toes and work your way up to your head. This can help reduce the feelings of physical tension that often accompany panic attacks.\\n\\n4. **Mindfulness or Meditation:** Using a mindfulness or meditation app, or simply sitting quietly and observing your thoughts as they come and go without judgment, can be helpful.\\n\\n5. **Distraction:** Sometimes, distracting yourself with an activity you enjoy (like watching a favorite TV show, listening to music, or engaging in a hobby) can help take your mind off your anxiety.\\n\\nRemember, panic attacks, although intensely uncomfortable, are not usually dangerous. They are temporary and will pass. It's important to be kind to yourself and acknowledge that experiencing anxiety and panic attacks is a part of being human.\\n\\nWould you like to try a guided breathing exercise together, or is there something specific you think might help in this moment?\"), type='text')], created_at=1707326498, file_ids=[], metadata={}, object='thread.message', role='assistant', run_id='run_gIB5I7HlpJ89oyEDJcgTPQkn', thread_id='thread_OJzbkwO7qRGpyeABr9F6tuxV'), ThreadMessage(id='msg_r7FY81pqxT9p9wxHvcI60asR', assistant_id=None, content=[MessageContentText(text=Text(annotations=[], value='I am having panic attack. Can you help me?'), type='text')], created_at=1707326436, file_ids=[], metadata={}, object='thread.message', role='user', run_id=None, thread_id='thread_OJzbkwO7qRGpyeABr9F6tuxV')], object='list', first_id='msg_NWYcOPsTRpXx6jMFScbullxL', last_id='msg_r7FY81pqxT9p9wxHvcI60asR', has_more=False)\n"
     ]
    }
   ],
   "source": [
    "print(messages)"
   ]
  },
  {
   "cell_type": "code",
   "execution_count": null,
   "metadata": {},
   "outputs": [],
   "source": []
  }
 ],
 "metadata": {
  "kernelspec": {
   "display_name": ".venv",
   "language": "python",
   "name": "python3"
  },
  "language_info": {
   "codemirror_mode": {
    "name": "ipython",
    "version": 3
   },
   "file_extension": ".py",
   "mimetype": "text/x-python",
   "name": "python",
   "nbconvert_exporter": "python",
   "pygments_lexer": "ipython3",
   "version": "3.11.4"
  }
 },
 "nbformat": 4,
 "nbformat_minor": 2
}
